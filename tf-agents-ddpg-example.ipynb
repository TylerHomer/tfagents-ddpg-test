{
  "cells": [
    {
      "cell_type": "code",
      "metadata": {
        "id": "JWtg4jDzLCNF",
        "colab_type": "code",
        "outputId": "dad8443f-dcf5-4249-e419-c9be10c793fc",
        "colab": {
          "base_uri": "https://localhost:8080/",
          "height": 433
        }
      },
      "source": [
        "!pip install tf_agents"
      ],
      "execution_count": 15,
      "outputs": [
        {
          "output_type": "stream",
          "name": "stderr",
          "text": "ERROR: Exception:\nTraceback (most recent call last):\n  File \"c:\\program files\\python36\\lib\\site-packages\\pip\\_internal\\cli\\base_command.py\", line 186, in _main\n    status = self.run(options, args)\n  File \"c:\\program files\\python36\\lib\\site-packages\\pip\\_internal\\commands\\install.py\", line 258, in run\n    isolated_mode=options.isolated_mode,\n  File \"c:\\program files\\python36\\lib\\site-packages\\pip\\_internal\\commands\\install.py\", line 604, in decide_user_install\n    if site_packages_writable(root=root_path, isolated=isolated_mode):\n  File \"c:\\program files\\python36\\lib\\site-packages\\pip\\_internal\\commands\\install.py\", line 549, in site_packages_writable\n    test_writable_dir(d) for d in set(get_lib_location_guesses(**kwargs))\n  File \"c:\\program files\\python36\\lib\\site-packages\\pip\\_internal\\commands\\install.py\", line 549, in <genexpr>\n    test_writable_dir(d) for d in set(get_lib_location_guesses(**kwargs))\n  File \"c:\\program files\\python36\\lib\\site-packages\\pip\\_internal\\utils\\filesystem.py\", line 140, in test_writable_dir\n    return _test_writable_dir_win(path)\n  File \"c:\\program files\\python36\\lib\\site-packages\\pip\\_internal\\utils\\filesystem.py\", line 153, in _test_writable_dir_win\n    fd = os.open(file, os.O_RDWR | os.O_CREAT | os.O_EXCL)\nPermissionError: [Errno 13] Permission denied: 'c:\\\\program files\\\\python36\\\\Lib\\\\site-packages\\\\accesstest_deleteme_fishfingers_custard_hqnjbs'\nWARNING: You are using pip version 20.0.2; however, version 20.1.1 is available.\nYou should consider upgrading via the 'c:\\program files\\python36\\python.exe -m pip install --upgrade pip' command.\n"
        }
      ]
    },
    {
      "cell_type": "code",
      "metadata": {
        "id": "dxnO9GHUKCk-",
        "colab_type": "code",
        "colab": {}
      },
      "source": [
        "from __future__ import absolute_import, division, print_function\n",
        "\n",
        "# Packages to support visualization\n",
        "import base64\n",
        "import imageio\n",
        "import IPython\n",
        "import PIL.Image\n",
        "import pyvirtualdisplay\n",
        "import matplotlib\n",
        "import matplotlib.pyplot as plt\n",
        "\n",
        "# Packages to support model training\n",
        "import numpy as np\n",
        "import tensorflow as tf\n",
        "from tf_agents.agents.ddpg import ddpg_agent\n",
        "from tf_agents.agents.ddpg import actor_network\n",
        "from tf_agents.agents.ddpg import critic_network\n",
        "from tf_agents.environments import suite_gym\n",
        "from tf_agents.environments import tf_py_environment\n",
        "from tf_agents.policies import random_tf_policy\n",
        "from tf_agents.replay_buffers import tf_uniform_replay_buffer\n",
        "from tf_agents.trajectories import trajectory\n",
        "from tf_agents.utils import common\n",
        "\n",
        "tf.compat.v1.enable_v2_behavior()"
      ],
      "execution_count": 16,
      "outputs": []
    },
    {
      "cell_type": "code",
      "metadata": {
        "id": "UH9Th9j1KCnC",
        "colab_type": "code",
        "colab": {}
      },
      "source": [
        "# Declare model constants\n",
        "num_iterations = 10000\n",
        "initial_collect_steps = 1000\n",
        "collect_steps_per_iteration = 1  \n",
        "replay_buffer_max_length = 100000  \n",
        "batch_size = 64\n",
        "learning_rate = 1e-3  \n",
        "log_interval = 200  \n",
        "num_eval_episodes = 10  \n",
        "eval_interval = 1000"
      ],
      "execution_count": 17,
      "outputs": []
    },
    {
      "cell_type": "code",
      "metadata": {
        "id": "b8Xa2mjmKCoJ",
        "colab_type": "code",
        "colab": {}
      },
      "source": [
        "# Initialize environment\n",
        "env_name = 'Pendulum-v0'\n",
        "env = suite_gym.load(env_name)\n",
        "train_py_env = suite_gym.load(env_name)\n",
        "eval_py_env = suite_gym.load(env_name)\n",
        "\n",
        "train_env = tf_py_environment.TFPyEnvironment(train_py_env)\n",
        "eval_env = tf_py_environment.TFPyEnvironment(eval_py_env)\n",
        "\n",
        "# Display environment dimensions\n",
        "print('Observation Spec:')\n",
        "print(env.time_step_spec().observation)\n",
        "print('Reward Spec:')\n",
        "print(env.time_step_spec().reward)\n",
        "print('Action Spec:')\n",
        "print(env.action_spec())\n",
        "time_step = env.reset()\n",
        "print('Time step:')\n",
        "print(time_step)"
      ],
      "execution_count": 18,
      "outputs": [
        {
          "output_type": "stream",
          "name": "stdout",
          "text": "Observation Spec:\nBoundedArraySpec(shape=(3,), dtype=dtype('float32'), name='observation', minimum=[-1. -1. -8.], maximum=[1. 1. 8.])\nReward Spec:\nArraySpec(shape=(), dtype=dtype('float32'), name='reward')\nAction Spec:\nBoundedArraySpec(shape=(1,), dtype=dtype('float32'), name='action', minimum=-2.0, maximum=2.0)\nTime step:\nTimeStep(step_type=array(0), reward=array(0., dtype=float32), discount=array(1., dtype=float32), observation=array([0.8139067 , 0.58099556, 0.8494987 ], dtype=float32))\n"
        }
      ]
    },
    {
      "cell_type": "code",
      "metadata": {
        "id": "5LT3XD9uKCuU",
        "colab_type": "code",
        "colab": {}
      },
      "source": [
        "# Create the agent's actor and critic networks\n",
        "act_net = actor_network.ActorNetwork(input_tensor_spec = train_env.observation_spec(),\n",
        "                                     output_tensor_spec = train_env.action_spec(),\n",
        "                                     fc_layer_params = (400,300),\n",
        "                                     activation_fn = tf.keras.activations.relu                 \n",
        "                                     )\n",
        "\n",
        "crit_net = critic_network.CriticNetwork(input_tensor_spec = (train_env.observation_spec(), train_env.action_spec()),\n",
        "                                        observation_fc_layer_params = (400,),\n",
        "                                        action_fc_layer_params = None,\n",
        "                                        joint_fc_layer_params = (400,),\n",
        "                                        activation_fn = tf.keras.activations.relu\n",
        "                                        )"
      ],
      "execution_count": 19,
      "outputs": []
    },
    {
      "cell_type": "code",
      "metadata": {
        "id": "0McIElgVKCv9",
        "colab_type": "code",
        "colab": {}
      },
      "source": [
        "# Instantiate the agent and supply it with its actor and critic networks\n",
        "actor_optimizer = tf.compat.v1.train.AdamOptimizer(learning_rate=learning_rate)\n",
        "critic_optimizer = tf.compat.v1.train.AdamOptimizer(learning_rate=learning_rate)\n",
        "\n",
        "train_step_counter = tf.Variable(0)\n",
        "\n",
        "global_step = tf.Variable(0, trainable=False)\n",
        "starter_epsilon = 1.0\n",
        "end_epsilon = 0.5\n",
        "decay_steps = num_iterations + initial_collect_steps\n",
        "ou_noise_size = tf.compat.v1.train.polynomial_decay(starter_epsilon,\n",
        "                                                    train_step_counter,\n",
        "                                                    decay_steps,\n",
        "                                                    end_epsilon,\n",
        "                                                    power=1.0,\n",
        "                                                    cycle=False)\n",
        "\n",
        "agent = ddpg_agent.DdpgAgent(time_step_spec = train_env.time_step_spec(),\n",
        "                             action_spec = train_env.action_spec(),\n",
        "                             actor_network = act_net,\n",
        "                             critic_network = crit_net,\n",
        "                             actor_optimizer = actor_optimizer,\n",
        "                             critic_optimizer = critic_optimizer, \n",
        "                             gamma = 0.99,\n",
        "                             target_critic_network = None, # Target network = same as primary\n",
        "                             target_update_tau = 0.1, \n",
        "                             ou_stddev = ou_noise_size(), # was 1 \n",
        "                             ou_damping = 0.25,\n",
        "                             td_errors_loss_fn = common.element_wise_squared_loss,\n",
        "                             train_step_counter=train_step_counter\n",
        "                             )\n",
        "\n",
        "agent.initialize()"
      ],
      "execution_count": 20,
      "outputs": []
    },
    {
      "cell_type": "code",
      "metadata": {
        "id": "ADqor1qEKC0v",
        "colab_type": "code",
        "colab": {}
      },
      "source": [
        "# Declare the function that will measure the training progress of the agent\n",
        "def compute_avg_return(environment, policy, num_episodes=10):\n",
        "\n",
        "  total_return = 0.0\n",
        "  for _ in range(num_episodes):\n",
        "\n",
        "    time_step = environment.reset()\n",
        "    episode_return = 0.0\n",
        "\n",
        "    while not time_step.is_last():\n",
        "      action_step = policy.action(time_step)\n",
        "      time_step = environment.step(action_step.action)\n",
        "      episode_return += time_step.reward\n",
        "    total_return += episode_return\n",
        "\n",
        "  avg_return = total_return / num_episodes\n",
        "  return avg_return.numpy()[0]"
      ],
      "execution_count": 21,
      "outputs": []
    },
    {
      "cell_type": "code",
      "execution_count": 22,
      "metadata": {},
      "outputs": [],
      "source": [
        "# Create the replay buffer\n",
        "replay_buffer = tf_uniform_replay_buffer.TFUniformReplayBuffer(\n",
        "    data_spec=agent.collect_data_spec,\n",
        "    batch_size=train_env.batch_size,\n",
        "    max_length=replay_buffer_max_length)\n",
        "\n",
        "dataset = replay_buffer.as_dataset(\n",
        "    num_parallel_calls=3, \n",
        "    sample_batch_size=batch_size, \n",
        "    num_steps=2).prefetch(3)\n",
        "\n",
        "iterator = iter(dataset)"
      ]
    },
    {
      "cell_type": "code",
      "metadata": {
        "id": "WmUpIC3CKC39",
        "colab_type": "code",
        "colab": {}
      },
      "source": [
        "# Create the function that performs the action on the environment and adds the data to the replay buffer\n",
        "def collect_step(environment, policy, buffer):\n",
        "    time_step = environment.current_time_step()\n",
        "    action_step = policy.action(time_step)\n",
        "    next_time_step = environment.step(action_step.action)\n",
        "    traj = trajectory.from_transition(time_step, action_step, next_time_step)\n",
        "    buffer.add_batch(traj)\n",
        "\n",
        "def collect_data(env, policy, buffer, steps):\n",
        "    for _ in range(steps):\n",
        "        collect_step(env, policy, buffer)"
      ],
      "execution_count": 23,
      "outputs": []
    },
    {
      "cell_type": "code",
      "execution_count": 24,
      "metadata": {},
      "outputs": [
        {
          "output_type": "execute_result",
          "data": {
            "text/plain": "-1059.8229"
          },
          "metadata": {},
          "execution_count": 24
        }
      ],
      "source": [
        "# Compute performance baseline using random actions\n",
        "example_environment = tf_py_environment.TFPyEnvironment(suite_gym.load(env_name))\n",
        "random_policy = random_tf_policy.RandomTFPolicy(train_env.time_step_spec(),\n",
        "                                                train_env.action_spec())\n",
        "compute_avg_return(eval_env, random_policy, num_eval_episodes)"
      ]
    },
    {
      "cell_type": "code",
      "metadata": {
        "id": "hmT50eD6KC7q",
        "colab_type": "code",
        "outputId": "55c32ef1-3366-48c8-bcfe-c3a80564d317",
        "colab": {
          "base_uri": "https://localhost:8080/",
          "height": 52
        }
      },
      "source": [
        "# Peform functions required before entering the training loop\n",
        "collect_data(train_env, random_policy, replay_buffer, steps=100)\n",
        "agent.train = common.function(agent.train)\n",
        "agent.train_step_counter.assign(0)\n",
        "avg_return = compute_avg_return(eval_env, agent.policy, num_eval_episodes)\n",
        "returns = [avg_return]\n",
        "print(returns)"
      ],
      "execution_count": 25,
      "outputs": [
        {
          "output_type": "stream",
          "name": "stdout",
          "text": "[-1158.0808]\n"
        }
      ]
    },
    {
      "cell_type": "code",
      "metadata": {
        "id": "L1hWigbOeT8b",
        "colab_type": "code",
        "outputId": "c0b258a4-8744-47e2-c205-ce6abfba8038",
        "colab": {
          "base_uri": "https://localhost:8080/",
          "height": 1000
        }
      },
      "source": [
        "# Execute the main training loop\n",
        "for _ in range(num_iterations):\n",
        "\n",
        "    # Collect a few steps using collect_policy and save to the replay buffer.\n",
        "    for _ in range(collect_steps_per_iteration):\n",
        "        collect_step(train_env, agent.collect_policy, replay_buffer)\n",
        "\n",
        "    # Sample a batch of data from the buffer and update the agent's network.\n",
        "    experience, unused_info = next(iterator)\n",
        "    train_loss = agent.train(experience).loss\n",
        "\n",
        "    step = agent.train_step_counter.numpy()\n",
        "\n",
        "    if step % log_interval == 0:\n",
        "        print('step = {0}: loss = {1}, noise = {2}'.format(step, train_loss, float(np.round(np.array(ou_noise_size()),2))))\n",
        "\n",
        "    if step % eval_interval == 0:\n",
        "        avg_return = compute_avg_return(eval_env, agent.policy, num_eval_episodes)\n",
        "        print('step = {0}: Average Return = {1}'.format(step, avg_return))\n",
        "        returns.append(avg_return)"
      ],
      "execution_count": 26,
      "outputs": [
        {
          "output_type": "stream",
          "name": "stderr",
          "text": "Exception ignored in: <bound method Viewer.__del__ of <gym.envs.classic_control.rendering.Viewer object at 0x00000184D2C98940>>\nTraceback (most recent call last):\n  File \"C:\\Program Files\\Python36\\lib\\site-packages\\gym\\envs\\classic_control\\rendering.py\", line 162, in __del__\n    self.close()\n  File \"C:\\Program Files\\Python36\\lib\\site-packages\\gym\\envs\\classic_control\\rendering.py\", line 81, in close\n    self.window.close()\n  File \"C:\\Program Files\\Python36\\lib\\site-packages\\pyglet\\window\\win32\\__init__.py\", line 299, in close\n    super(Win32Window, self).close()\n  File \"C:\\Program Files\\Python36\\lib\\site-packages\\pyglet\\window\\__init__.py\", line 823, in close\n    app.windows.remove(self)\n  File \"C:\\Program Files\\Python36\\lib\\_weakrefset.py\", line 109, in remove\n    self.data.remove(ref(item))\nKeyError: (<weakref at 0x00000184D2E3EE58; to 'Win32Window' at 0x00000184D7375048>,)\nstep = 200: loss = 8.915691375732422, noise = 0.9900000095367432\nstep = 400: loss = 11.05178165435791, noise = 0.9800000190734863\nstep = 600: loss = 10.939990997314453, noise = 0.9700000286102295\nstep = 800: loss = 33.49134826660156, noise = 0.9599999785423279\nstep = 1000: loss = 16.283578872680664, noise = 0.949999988079071\nstep = 1000: Average Return = -1508.519775390625\nstep = 1200: loss = 49.77159881591797, noise = 0.949999988079071\nstep = 1400: loss = 17.96638298034668, noise = 0.9399999976158142\nstep = 1600: loss = 16.55670738220215, noise = 0.9300000071525574\nstep = 1800: loss = 44.00539016723633, noise = 0.9200000166893005\nstep = 2000: loss = 32.800201416015625, noise = 0.9100000262260437\nstep = 2000: Average Return = -1605.8394775390625\nstep = 2200: loss = 73.1377944946289, noise = 0.8999999761581421\nstep = 2400: loss = 22.741411209106445, noise = 0.8899999856948853\nstep = 2600: loss = 21.76532554626465, noise = 0.8799999952316284\nstep = 2800: loss = 73.93373107910156, noise = 0.8700000047683716\nstep = 3000: loss = 30.178627014160156, noise = 0.8600000143051147\nstep = 3000: Average Return = -1203.789306640625\nstep = 3200: loss = 39.48512268066406, noise = 0.8500000238418579\nstep = 3400: loss = 18.292160034179688, noise = 0.8500000238418579\nstep = 3600: loss = 19.397418975830078, noise = 0.8399999737739563\nstep = 3800: loss = 21.294754028320312, noise = 0.8299999833106995\nstep = 4000: loss = 20.522354125976562, noise = 0.8199999928474426\nstep = 4000: Average Return = -167.87954711914062\nstep = 4200: loss = 18.677400588989258, noise = 0.8100000023841858\nstep = 4400: loss = 23.503616333007812, noise = 0.800000011920929\nstep = 4600: loss = 22.17084312438965, noise = 0.7900000214576721\nstep = 4800: loss = 13.641181945800781, noise = 0.7799999713897705\nstep = 5000: loss = 17.478759765625, noise = 0.7699999809265137\nstep = 5000: Average Return = -161.06707763671875\nstep = 5200: loss = 18.103689193725586, noise = 0.7599999904632568\nstep = 5400: loss = 15.043098449707031, noise = 0.75\nstep = 5600: loss = 25.033775329589844, noise = 0.75\nstep = 5800: loss = 69.71122741699219, noise = 0.7400000095367432\nstep = 6000: loss = 21.763647079467773, noise = 0.7300000190734863\nstep = 6000: Average Return = -160.21949768066406\nstep = 6200: loss = 20.327083587646484, noise = 0.7200000286102295\nstep = 6400: loss = 22.43631362915039, noise = 0.7099999785423279\nstep = 6600: loss = 67.22962951660156, noise = 0.699999988079071\nstep = 6800: loss = 19.112995147705078, noise = 0.6899999976158142\nstep = 7000: loss = 24.099170684814453, noise = 0.6800000071525574\nstep = 7000: Average Return = -156.49978637695312\nstep = 7200: loss = 27.26420783996582, noise = 0.6700000166893005\nstep = 7400: loss = 22.115062713623047, noise = 0.6600000262260437\nstep = 7600: loss = 26.013113021850586, noise = 0.6499999761581421\nstep = 7800: loss = 27.84029197692871, noise = 0.6499999761581421\nstep = 8000: loss = 28.14273452758789, noise = 0.6399999856948853\nstep = 8000: Average Return = -186.7402801513672\nstep = 8200: loss = 51.312591552734375, noise = 0.6299999952316284\nstep = 8400: loss = 33.91558074951172, noise = 0.6200000047683716\nstep = 8600: loss = 24.3258056640625, noise = 0.6100000143051147\nstep = 8800: loss = 18.15317153930664, noise = 0.6000000238418579\nstep = 9000: loss = 35.74006271362305, noise = 0.5899999737739563\nstep = 9000: Average Return = -170.04452514648438\nstep = 9200: loss = 29.669239044189453, noise = 0.5799999833106995\nstep = 9400: loss = 19.243057250976562, noise = 0.5699999928474426\nstep = 9600: loss = 18.277223587036133, noise = 0.5600000023841858\nstep = 9800: loss = 19.979612350463867, noise = 0.550000011920929\nstep = 10000: loss = 26.786624908447266, noise = 0.550000011920929\nstep = 10000: Average Return = -180.95803833007812\n"
        }
      ]
    },
    {
      "cell_type": "code",
      "metadata": {
        "id": "MUOCBBPkKC8V",
        "colab_type": "code",
        "outputId": "4b9a4d1b-80ed-4e43-fb43-cb116217ef9d",
        "colab": {
          "base_uri": "https://localhost:8080/",
          "height": 297
        }
      },
      "source": [
        "# Visualize the training progress of the agent\n",
        "iterations = range(0, num_iterations + 1, eval_interval)\n",
        "plt.plot(iterations, returns)\n",
        "plt.ylabel('Average Return')\n",
        "plt.xlabel('Iterations')"
      ],
      "execution_count": 27,
      "outputs": [
        {
          "output_type": "execute_result",
          "data": {
            "text/plain": "Text(0.5, 0, 'Iterations')"
          },
          "metadata": {},
          "execution_count": 27
        },
        {
          "output_type": "display_data",
          "data": {
            "text/plain": "<Figure size 432x288 with 1 Axes>",
            "image/png": "[encoded data removed]"
          },
          "metadata": {
            "needs_background": "light"
          }
        }
      ]
    },
    {
      "cell_type": "code",
      "metadata": {
        "id": "DRthN6E5KC8_",
        "colab_type": "code",
        "outputId": "aea3f23b-5934-4081-c46c-485cba1369c7",
        "colab": {
          "base_uri": "https://localhost:8080/",
          "height": 364
        }
      },
      "source": [
        "# Visualize the agent performing its learned behaviour\n",
        "def embed_mp4(filename):\n",
        "    \"\"\"Embeds an mp4 file in the notebook.\"\"\"\n",
        "    video = open(filename,'rb').read()\n",
        "    b64 = base64.b64encode(video)\n",
        "    tag = '''\n",
        "    <video width=\"640\" height=\"480\" controls>\n",
        "        <source src=\"data:video/mp4;base64,{0}\" type=\"video/mp4\">\n",
        "    Your browser does not support the video tag.\n",
        "    </video>'''.format(b64.decode())\n",
        "\n",
        "    return IPython.display.HTML(tag)\n",
        "\n",
        "def create_policy_eval_video(policy, filename, num_episodes=5, fps=30):\n",
        "    filename = filename + \".mp4\"\n",
        "    with imageio.get_writer(filename, fps=fps) as video:\n",
        "        for _ in range(num_episodes):\n",
        "            time_step = eval_env.reset()\n",
        "            video.append_data(eval_py_env.render())\n",
        "        while not time_step.is_last():\n",
        "            action_step = policy.action(time_step)\n",
        "            time_step = eval_env.step(action_step.action)\n",
        "            video.append_data(eval_py_env.render())\n",
        "    return embed_mp4(filename)\n",
        "\n",
        "create_policy_eval_video(agent.policy, \"trained-agent\")\n",
        "# create_policy_eval_video(random_policy, \"random-agent\")"
      ],
      "execution_count": 28,
      "outputs": [
        {
          "output_type": "stream",
          "name": "stderr",
          "text": "W0604 12:04:30.658912 14396 _io.py:418] IMAGEIO FFMPEG_WRITER WARNING: input image is not divisible by macro_block_size=16, resizing from (500, 500) to (512, 512) to ensure video compatibility with most codecs and players. To prevent resizing, make your input image divisible by the macro_block_size or set the macro_block_size to 1 (risking incompatibility).\n"
        },
        {
          "output_type": "execute_result",
          "data": {
            "text/plain": "<IPython.core.display.HTML object>",
            "text/html": "\n    <video width=\"640\" height=\"480\" controls>\n        <source src=\"data:video/mp4;base64,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\" type=\"video/mp4\">\n    Your browser does not support the video tag.\n    </video>"
          },
          "metadata": {},
          "execution_count": 28
        }
      ]
    }
  ],
  "metadata": {
    "language_info": {
      "codemirror_mode": {
        "name": "ipython",
        "version": 3
      },
      "file_extension": ".py",
      "mimetype": "text/x-python",
      "name": "python",
      "nbconvert_exporter": "python",
      "pygments_lexer": "ipython3",
      "version": "3.6.8-final"
    },
    "orig_nbformat": 2,
    "kernelspec": {
      "name": "python36864bit0f50246b71c8417ab6f57ff5dadcb87f",
      "display_name": "Python 3.6.8 64-bit"
    },
    "colab": {
      "name": "Copy of test_tf_agents.ipynb",
      "provenance": [],
      "collapsed_sections": []
    },
    "accelerator": "GPU"
  },
  "nbformat": 4,
  "nbformat_minor": 0
}