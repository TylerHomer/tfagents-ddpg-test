{
  "cells": [
    {
      "cell_type": "code",
      "metadata": {
        "id": "XgGtvG96DmfR",
        "colab_type": "code",
        "colab": {
          "base_uri": "https://localhost:8080/",
          "height": 243
        },
        "outputId": "cd4d8015-fbe9-4264-9d58-19fdce387596"
      },
      "source": [
        "# !pip install tf-agents"
      ],
      "execution_count": 118,
      "outputs": [
        {
          "output_type": "stream",
          "text": [
            "Requirement already satisfied: pyvirtualdisplay in /usr/local/lib/python3.6/dist-packages (1.3.2)\n",
            "Requirement already satisfied: EasyProcess in /usr/local/lib/python3.6/dist-packages (from pyvirtualdisplay) (0.3)\n",
            "Requirement already satisfied: tf-agents in /usr/local/lib/python3.6/dist-packages (0.5.0)\n",
            "Requirement already satisfied: numpy>=1.13.3 in /usr/local/lib/python3.6/dist-packages (from tf-agents) (1.18.5)\n",
            "Requirement already satisfied: six>=1.10.0 in /usr/local/lib/python3.6/dist-packages (from tf-agents) (1.12.0)\n",
            "Requirement already satisfied: tensorflow-probability>=0.9.0 in /usr/local/lib/python3.6/dist-packages (from tf-agents) (0.10.0)\n",
            "Requirement already satisfied: protobuf>=3.11.3 in /usr/local/lib/python3.6/dist-packages (from tf-agents) (3.12.2)\n",
            "Requirement already satisfied: absl-py>=0.6.1 in /usr/local/lib/python3.6/dist-packages (from tf-agents) (0.9.0)\n",
            "Requirement already satisfied: gin-config==0.1.3 in /usr/local/lib/python3.6/dist-packages (from tf-agents) (0.1.3)\n",
            "Requirement already satisfied: gast>=0.3.2 in /usr/local/lib/python3.6/dist-packages (from tensorflow-probability>=0.9.0->tf-agents) (0.3.3)\n",
            "Requirement already satisfied: cloudpickle>=1.2.2 in /usr/local/lib/python3.6/dist-packages (from tensorflow-probability>=0.9.0->tf-agents) (1.3.0)\n",
            "Requirement already satisfied: decorator in /usr/local/lib/python3.6/dist-packages (from tensorflow-probability>=0.9.0->tf-agents) (4.4.2)\n",
            "Requirement already satisfied: setuptools in /usr/local/lib/python3.6/dist-packages (from protobuf>=3.11.3->tf-agents) (47.3.1)\n"
          ],
          "name": "stdout"
        }
      ]
    },
    {
      "cell_type": "code",
      "metadata": {
        "id": "dxnO9GHUKCk-",
        "colab_type": "code",
        "colab": {}
      },
      "source": [
        "from __future__ import absolute_import, division, print_function\n",
        "\n",
        "# Packages to support visualization\n",
        "import base64\n",
        "import imageio\n",
        "import IPython\n",
        "import PIL.Image\n",
        "import pyvirtualdisplay\n",
        "import matplotlib\n",
        "import matplotlib.pyplot as plt\n",
        "\n",
        "# Packages to support model training\n",
        "import numpy as np\n",
        "import tensorflow as tf\n",
        "from tf_agents.agents.ddpg import ddpg_agent\n",
        "from tf_agents.agents.ddpg import actor_network\n",
        "from tf_agents.agents.ddpg import critic_network\n",
        "from tf_agents.environments import suite_gym\n",
        "from tf_agents.environments import tf_py_environment\n",
        "from tf_agents.policies import random_tf_policy\n",
        "from tf_agents.replay_buffers import tf_uniform_replay_buffer\n",
        "from tf_agents.trajectories import trajectory\n",
        "from tf_agents.utils import common\n",
        "\n",
        "from tf_agents.environments import py_environment\n",
        "from tf_agents.environments import tf_environment\n",
        "from tf_agents.environments import tf_py_environment\n",
        "from tf_agents.environments import utils\n",
        "from tf_agents.specs import array_spec\n",
        "from tf_agents.environments import wrappers\n",
        "from tf_agents.environments import suite_gym\n",
        "from tf_agents.trajectories import time_step as ts\n",
        "\n",
        "tf.compat.v1.enable_v2_behavior()"
      ],
      "execution_count": 119,
      "outputs": []
    },
    {
      "cell_type": "code",
      "metadata": {
        "id": "UH9Th9j1KCnC",
        "colab_type": "code",
        "colab": {}
      },
      "source": [
        "# Declare model constants\n",
        "num_iterations = 30000\n",
        "initial_collect_steps = 1000\n",
        "collect_steps_per_iteration = 1\n",
        "replay_buffer_max_length = 100000\n",
        "batch_size = 64\n",
        "actor_learning_rate = 1e-3\n",
        "critic_learning_rate = 1e-3\n",
        "log_interval = 200\n",
        "num_eval_episodes = 10\n",
        "eval_interval = 1000\n",
        "episode_steps = 100"
      ],
      "execution_count": 122,
      "outputs": []
    },
    {
      "cell_type": "code",
      "metadata": {
        "id": "I44xfPWxDEji",
        "colab_type": "code",
        "colab": {}
      },
      "source": [
        "class ControlSysEnv(py_environment.PyEnvironment):\n",
        "\n",
        "    def __init__(self):\n",
        "        self._action_spec = array_spec.BoundedArraySpec(\n",
        "            shape=(), dtype=np.float32, minimum=-1, maximum=1, name='action')\n",
        "        self._observation_spec = array_spec.BoundedArraySpec(\n",
        "            shape=(2,), dtype=np.float32, minimum=np.array([-2,-2]), maximum=np.array([2,2]), name='observation')\n",
        "        self._state = np.float32(2.0*np.random.rand(2) - 1.0) # np.array([1.0, 1.0], dtype=np.float32)\n",
        "        self._step_counter = 0 \n",
        "        self._episode_ended = False\n",
        "        self._time_step_size = 0.1 # was 0.01, which was too small.\n",
        "        # The control system dynamics. If you change A or B's shapes, change them in the spec too. \n",
        "        self._A = np.array([[0, 1], [0, 0]])\n",
        "        self._B = np.array([0, 1]).T\n",
        "\n",
        "    def action_spec(self):\n",
        "        return self._action_spec\n",
        "\n",
        "    def observation_spec(self):\n",
        "        return self._observation_spec\n",
        "\n",
        "    def _reset(self):\n",
        "        self._state = np.float32(2.0*np.random.rand(2) - 1.0)\n",
        "        self._step_counter = 0\n",
        "        self._episode_ended = False\n",
        "        return ts.restart(self._state)\n",
        "\n",
        "    def _step(self, action):\n",
        "    \n",
        "        self._step_counter = self._step_counter + 1\n",
        "\n",
        "        if self._episode_ended:\n",
        "            return self.reset()\n",
        "        else:\n",
        "            self._state = np.array(self._state + self._time_step_size*(\n",
        "                np.matmul(self._A, self._state.T) + self._B*action), dtype=np.float32)\n",
        "            # Errors will be generated if the state exits the bounds of the observation spec\n",
        "            for i in range(int(self.time_step_spec().observation.shape[0])):\n",
        "                if self._state[i] > self.time_step_spec().observation.maximum[i]:\n",
        "                    self._state[i] = self.time_step_spec().observation.maximum[i]\n",
        "                elif self._state[i] < self.time_step_spec().observation.minimum[i]:\n",
        "                    self._state[i] = self.time_step_spec().observation.minimum[i]\n",
        "    \n",
        "        if self._step_counter >= episode_steps:\n",
        "            self._episode_ended = True\n",
        "    \n",
        "        reward = -1*(4*np.sum(np.power(self._state,2)) + 0.1*np.sum(np.power(action,2)))\n",
        "    \n",
        "        if self._episode_ended:\n",
        "            return ts.termination(self._state, reward)\n",
        "        else:\n",
        "            return ts.transition(self._state, reward, discount=1.0)"
      ],
      "execution_count": 123,
      "outputs": []
    },
    {
      "cell_type": "code",
      "metadata": {
        "id": "b8Xa2mjmKCoJ",
        "colab_type": "code",
        "tags": [],
        "colab": {
          "base_uri": "https://localhost:8080/",
          "height": 156
        },
        "outputId": "b677349b-e561-4c83-9a5e-c692a4f04ad2"
      },
      "source": [
        "# Initialize environment\n",
        "# env_name = 'Pendulum-v0'\n",
        "env = ControlSysEnv() # suite_gym.load(env_name)\n",
        "train_py_env = ControlSysEnv() # suite_gym.load(env_name)\n",
        "eval_py_env = ControlSysEnv() # suite_gym.load(env_name)\n",
        "\n",
        "train_env = tf_py_environment.TFPyEnvironment(train_py_env)\n",
        "eval_env = tf_py_environment.TFPyEnvironment(eval_py_env)\n",
        "\n",
        "# Display environment dimensions\n",
        "print('Observation Spec:')\n",
        "print(env.time_step_spec().observation)\n",
        "print('Reward Spec:')\n",
        "print(env.time_step_spec().reward)\n",
        "print('Action Spec:')\n",
        "print(env.action_spec())\n",
        "time_step = env.reset()\n",
        "print('Time step:')\n",
        "print(time_step)"
      ],
      "execution_count": 124,
      "outputs": [
        {
          "output_type": "stream",
          "text": [
            "Observation Spec:\n",
            "BoundedArraySpec(shape=(2,), dtype=dtype('float32'), name='observation', minimum=[-2. -2.], maximum=[2. 2.])\n",
            "Reward Spec:\n",
            "ArraySpec(shape=(), dtype=dtype('float32'), name='reward')\n",
            "Action Spec:\n",
            "BoundedArraySpec(shape=(), dtype=dtype('float32'), name='action', minimum=-1.0, maximum=1.0)\n",
            "Time step:\n",
            "TimeStep(step_type=array(0, dtype=int32), reward=array(0., dtype=float32), discount=array(1., dtype=float32), observation=array([-0.1512351,  0.360709 ], dtype=float32))\n"
          ],
          "name": "stdout"
        }
      ]
    },
    {
      "cell_type": "code",
      "metadata": {
        "id": "5LT3XD9uKCuU",
        "colab_type": "code",
        "colab": {}
      },
      "source": [
        "# Create the agent's actor and critic networks\n",
        "act_net = actor_network.ActorNetwork(input_tensor_spec = train_env.observation_spec(),\n",
        "                                     output_tensor_spec = train_env.action_spec(),\n",
        "                                     fc_layer_params = (400,300),\n",
        "                                     activation_fn = tf.keras.activations.relu                 \n",
        "                                     )\n",
        "\n",
        "crit_net = critic_network.CriticNetwork(input_tensor_spec = (train_env.observation_spec(), train_env.action_spec()),\n",
        "                                        observation_fc_layer_params = (400,),\n",
        "                                        action_fc_layer_params = None,\n",
        "                                        joint_fc_layer_params = (400,),\n",
        "                                        activation_fn = tf.keras.activations.relu\n",
        "                                        )"
      ],
      "execution_count": 125,
      "outputs": []
    },
    {
      "cell_type": "code",
      "metadata": {
        "id": "0McIElgVKCv9",
        "colab_type": "code",
        "tags": [],
        "colab": {}
      },
      "source": [
        "# Instantiate the agent and supply it with its actor and critic networks\n",
        "actor_optimizer = tf.compat.v1.train.AdamOptimizer(learning_rate=actor_learning_rate)\n",
        "critic_optimizer = tf.compat.v1.train.AdamOptimizer(learning_rate=critic_learning_rate)\n",
        "\n",
        "train_step_counter = tf.Variable(0)\n",
        "\n",
        "global_step = tf.Variable(0, trainable=False)\n",
        "starter_epsilon = 1.0\n",
        "end_epsilon = 0.5\n",
        "decay_steps = num_iterations + initial_collect_steps\n",
        "ou_noise_size = tf.compat.v1.train.polynomial_decay(starter_epsilon,\n",
        "                                                    train_step_counter,\n",
        "                                                    decay_steps,\n",
        "                                                    end_epsilon,\n",
        "                                                    power=1.0,\n",
        "                                                    cycle=False)\n",
        "\n",
        "agent = ddpg_agent.DdpgAgent(time_step_spec = train_env.time_step_spec(),\n",
        "                             action_spec = train_env.action_spec(),\n",
        "                             actor_network = act_net,\n",
        "                             critic_network = crit_net,\n",
        "                             actor_optimizer = actor_optimizer,\n",
        "                             critic_optimizer = critic_optimizer, \n",
        "                             gamma = 0.99,\n",
        "                             target_critic_network = None, # Target network = same type as primary\n",
        "                             target_update_tau = 0.1, \n",
        "                             ou_stddev = ou_noise_size(), # was 1 \n",
        "                             ou_damping = 0.25,\n",
        "                             td_errors_loss_fn = common.element_wise_squared_loss,\n",
        "                             train_step_counter=train_step_counter\n",
        "                             )\n",
        "\n",
        "agent.initialize()"
      ],
      "execution_count": 126,
      "outputs": []
    },
    {
      "cell_type": "code",
      "metadata": {
        "id": "ADqor1qEKC0v",
        "colab_type": "code",
        "colab": {}
      },
      "source": [
        "# Declare the function that will measure the training progress of the agent\n",
        "def compute_avg_return(environment, policy, num_episodes=10):\n",
        "\n",
        "  total_return = 0.0\n",
        "  for _ in range(num_episodes):\n",
        "\n",
        "    time_step = environment.reset()\n",
        "    episode_return = 0.0\n",
        "\n",
        "    while not time_step.is_last():\n",
        "      action_step = policy.action(time_step)\n",
        "      time_step = environment.step(action_step.action)\n",
        "      episode_return += time_step.reward\n",
        "    total_return += episode_return\n",
        "\n",
        "  avg_return = total_return / num_episodes\n",
        "  return avg_return.numpy()[0]"
      ],
      "execution_count": 127,
      "outputs": []
    },
    {
      "cell_type": "code",
      "metadata": {
        "id": "_f4lJ0dtDEmu",
        "colab_type": "code",
        "colab": {}
      },
      "source": [
        "# Create the replay buffer\n",
        "replay_buffer = tf_uniform_replay_buffer.TFUniformReplayBuffer(\n",
        "    data_spec=agent.collect_data_spec,\n",
        "    batch_size=train_env.batch_size,\n",
        "    max_length=replay_buffer_max_length)\n",
        "\n",
        "dataset = replay_buffer.as_dataset(\n",
        "    num_parallel_calls=3, \n",
        "    sample_batch_size=batch_size, \n",
        "    num_steps=2).prefetch(3)\n",
        "\n",
        "iterator = iter(dataset)"
      ],
      "execution_count": 128,
      "outputs": []
    },
    {
      "cell_type": "code",
      "metadata": {
        "id": "WmUpIC3CKC39",
        "colab_type": "code",
        "colab": {}
      },
      "source": [
        "# Create the function that performs the action on the environment and adds the data to the replay buffer\n",
        "def collect_step(environment, policy, buffer):\n",
        "    time_step = environment.current_time_step()\n",
        "    action_step = policy.action(time_step)\n",
        "    next_time_step = environment.step(action_step.action)\n",
        "    traj = trajectory.from_transition(time_step, action_step, next_time_step)\n",
        "    buffer.add_batch(traj)\n",
        "\n",
        "def collect_data(env, policy, buffer, steps):\n",
        "    for _ in range(steps):\n",
        "        collect_step(env, policy, buffer)"
      ],
      "execution_count": 129,
      "outputs": []
    },
    {
      "cell_type": "code",
      "metadata": {
        "id": "nMlgNQ_qDEnh",
        "colab_type": "code",
        "colab": {
          "base_uri": "https://localhost:8080/",
          "height": 35
        },
        "outputId": "5ce134ba-cc37-41b2-851e-d56c2b65c17b"
      },
      "source": [
        "# Compute performance baseline using random actions\n",
        "example_environment = tf_py_environment.TFPyEnvironment(ControlSysEnv())\n",
        "random_policy = random_tf_policy.RandomTFPolicy(train_env.time_step_spec(),\n",
        "                                                train_env.action_spec())\n",
        "compute_avg_return(eval_env, random_policy, num_eval_episodes)"
      ],
      "execution_count": 130,
      "outputs": [
        {
          "output_type": "execute_result",
          "data": {
            "text/plain": [
              "-1063.9883"
            ]
          },
          "metadata": {
            "tags": []
          },
          "execution_count": 130
        }
      ]
    },
    {
      "cell_type": "code",
      "metadata": {
        "id": "hmT50eD6KC7q",
        "colab_type": "code",
        "tags": [],
        "colab": {
          "base_uri": "https://localhost:8080/",
          "height": 35
        },
        "outputId": "8fec207a-d2ad-4132-bea7-05cf03c308c7"
      },
      "source": [
        "# Peform functions required before entering the training loop\n",
        "collect_data(train_env, random_policy, replay_buffer, steps=100)\n",
        "agent.train = common.function(agent.train)\n",
        "agent.train_step_counter.assign(0)\n",
        "avg_return = compute_avg_return(eval_env, agent.policy, num_eval_episodes)\n",
        "returns = [avg_return]\n",
        "print(returns)"
      ],
      "execution_count": 131,
      "outputs": [
        {
          "output_type": "stream",
          "text": [
            "[-1084.487]\n"
          ],
          "name": "stdout"
        }
      ]
    },
    {
      "cell_type": "code",
      "metadata": {
        "id": "L1hWigbOeT8b",
        "colab_type": "code",
        "tags": [],
        "colab": {
          "base_uri": "https://localhost:8080/",
          "height": 1000
        },
        "outputId": "35a4bb20-4aec-4041-a5b0-f5fdfa307fcd"
      },
      "source": [
        "# Execute the main training loop\n",
        "for _ in range(num_iterations):\n",
        "\n",
        "    # Collect a few steps using collect_policy and save to the replay buffer.\n",
        "    for _ in range(collect_steps_per_iteration):\n",
        "        collect_step(train_env, agent.collect_policy, replay_buffer)\n",
        "\n",
        "    # Sample a batch of data from the buffer and update the agent's network.\n",
        "    experience, unused_info = next(iterator)\n",
        "    train_loss = agent.train(experience).loss\n",
        "\n",
        "    step = agent.train_step_counter.numpy()\n",
        "\n",
        "    if step % log_interval == 0:\n",
        "        print('step = {0}: loss = {1}, noise = {2}'.format(step, train_loss, float(np.round(np.array(ou_noise_size()),2))))\n",
        "\n",
        "    if step % eval_interval == 0:\n",
        "        avg_return = compute_avg_return(eval_env, agent.policy, num_eval_episodes)\n",
        "        print('step = {0}: Average Return = {1}'.format(step, avg_return))\n",
        "        returns.append(avg_return)"
      ],
      "execution_count": 132,
      "outputs": [
        {
          "output_type": "stream",
          "text": [
            "step = 200: loss = 98.38550567626953, noise = 1.0\n",
            "step = 400: loss = 116.2972412109375, noise = 0.9900000095367432\n",
            "step = 600: loss = 20360.37890625, noise = 0.9900000095367432\n",
            "step = 800: loss = 8224.5322265625, noise = 0.9900000095367432\n",
            "step = 1000: loss = 491.4618835449219, noise = 0.9800000190734863\n",
            "step = 1000: Average Return = -66.92575073242188\n",
            "step = 1200: loss = 378.8317565917969, noise = 0.9800000190734863\n",
            "step = 1400: loss = 643.8397216796875, noise = 0.9800000190734863\n",
            "step = 1600: loss = 4214.0859375, noise = 0.9700000286102295\n",
            "step = 1800: loss = 481.689208984375, noise = 0.9700000286102295\n",
            "step = 2000: loss = 2170.021728515625, noise = 0.9700000286102295\n",
            "step = 2000: Average Return = -380.43328857421875\n",
            "step = 2200: loss = 144.95266723632812, noise = 0.9599999785423279\n",
            "step = 2400: loss = 426.8875732421875, noise = 0.9599999785423279\n",
            "step = 2600: loss = 112.8019790649414, noise = 0.9599999785423279\n",
            "step = 2800: loss = 179.16297912597656, noise = 0.949999988079071\n",
            "step = 3000: loss = 121.66236877441406, noise = 0.949999988079071\n",
            "step = 3000: Average Return = -83.644287109375\n",
            "step = 3200: loss = 95.74845123291016, noise = 0.949999988079071\n",
            "step = 3400: loss = 101.52891540527344, noise = 0.949999988079071\n",
            "step = 3600: loss = 129.55540466308594, noise = 0.9399999976158142\n",
            "step = 3800: loss = 110.46485900878906, noise = 0.9399999976158142\n",
            "step = 4000: loss = 126.518798828125, noise = 0.9399999976158142\n",
            "step = 4000: Average Return = -145.5263671875\n",
            "step = 4200: loss = 624.7894287109375, noise = 0.9300000071525574\n",
            "step = 4400: loss = 130.6506805419922, noise = 0.9300000071525574\n",
            "step = 4600: loss = 116.4025650024414, noise = 0.9300000071525574\n",
            "step = 4800: loss = 117.6339111328125, noise = 0.9200000166893005\n",
            "step = 5000: loss = 107.44721984863281, noise = 0.9200000166893005\n",
            "step = 5000: Average Return = -140.29261779785156\n",
            "step = 5200: loss = 69.5151596069336, noise = 0.9200000166893005\n",
            "step = 5400: loss = 342.951904296875, noise = 0.9100000262260437\n",
            "step = 5600: loss = 2074.87939453125, noise = 0.9100000262260437\n",
            "step = 5800: loss = 165.85012817382812, noise = 0.9100000262260437\n",
            "step = 6000: loss = 142.112060546875, noise = 0.8999999761581421\n",
            "step = 6000: Average Return = -41.984439849853516\n",
            "step = 6200: loss = 84.58154296875, noise = 0.8999999761581421\n",
            "step = 6400: loss = 80.4516830444336, noise = 0.8999999761581421\n",
            "step = 6600: loss = 217.11160278320312, noise = 0.8899999856948853\n",
            "step = 6800: loss = 145.67605590820312, noise = 0.8899999856948853\n",
            "step = 7000: loss = 144.24984741210938, noise = 0.8899999856948853\n",
            "step = 7000: Average Return = -40.211578369140625\n",
            "step = 7200: loss = 130.49916076660156, noise = 0.8799999952316284\n",
            "step = 7400: loss = 76.90188598632812, noise = 0.8799999952316284\n",
            "step = 7600: loss = 92.1019287109375, noise = 0.8799999952316284\n",
            "step = 7800: loss = 291.6790771484375, noise = 0.8700000047683716\n",
            "step = 8000: loss = 99.26669311523438, noise = 0.8700000047683716\n",
            "step = 8000: Average Return = -41.175785064697266\n",
            "step = 8200: loss = 59.036651611328125, noise = 0.8700000047683716\n",
            "step = 8400: loss = 107.87916564941406, noise = 0.8600000143051147\n",
            "step = 8600: loss = 95.24859619140625, noise = 0.8600000143051147\n",
            "step = 8800: loss = 52.749629974365234, noise = 0.8600000143051147\n",
            "step = 9000: loss = 1783.878173828125, noise = 0.8500000238418579\n",
            "step = 9000: Average Return = -31.821475982666016\n",
            "step = 9200: loss = 393.6683654785156, noise = 0.8500000238418579\n",
            "step = 9400: loss = 634.11279296875, noise = 0.8500000238418579\n",
            "step = 9600: loss = 51.590606689453125, noise = 0.8500000238418579\n",
            "step = 9800: loss = 487.9496154785156, noise = 0.8399999737739563\n",
            "step = 10000: loss = 106.95098876953125, noise = 0.8399999737739563\n",
            "step = 10000: Average Return = -119.05958557128906\n",
            "step = 10200: loss = 74.09648895263672, noise = 0.8399999737739563\n",
            "step = 10400: loss = 231.21633911132812, noise = 0.8299999833106995\n",
            "step = 10600: loss = 49.72099304199219, noise = 0.8299999833106995\n",
            "step = 10800: loss = 972.5445556640625, noise = 0.8299999833106995\n",
            "step = 11000: loss = 101.91273498535156, noise = 0.8199999928474426\n",
            "step = 11000: Average Return = -56.16495895385742\n",
            "step = 11200: loss = 109.92521667480469, noise = 0.8199999928474426\n",
            "step = 11400: loss = 132.50967407226562, noise = 0.8199999928474426\n",
            "step = 11600: loss = 76.71159362792969, noise = 0.8100000023841858\n",
            "step = 11800: loss = 402.61376953125, noise = 0.8100000023841858\n",
            "step = 12000: loss = 98.30074310302734, noise = 0.8100000023841858\n",
            "step = 12000: Average Return = -40.413814544677734\n",
            "step = 12200: loss = 781.3748168945312, noise = 0.800000011920929\n",
            "step = 12400: loss = 668.1326293945312, noise = 0.800000011920929\n",
            "step = 12600: loss = 71.73503875732422, noise = 0.800000011920929\n",
            "step = 12800: loss = 103.02516174316406, noise = 0.7900000214576721\n",
            "step = 13000: loss = 188.59657287597656, noise = 0.7900000214576721\n",
            "step = 13000: Average Return = -50.83076858520508\n",
            "step = 13200: loss = 63.23579406738281, noise = 0.7900000214576721\n",
            "step = 13400: loss = 107.95906829833984, noise = 0.7799999713897705\n",
            "step = 13600: loss = 177.53155517578125, noise = 0.7799999713897705\n",
            "step = 13800: loss = 43.29734802246094, noise = 0.7799999713897705\n",
            "step = 14000: loss = 42.558414459228516, noise = 0.7699999809265137\n",
            "step = 14000: Average Return = -37.95576095581055\n",
            "step = 14200: loss = 60.9958610534668, noise = 0.7699999809265137\n",
            "step = 14400: loss = 82.91004943847656, noise = 0.7699999809265137\n",
            "step = 14600: loss = 68.04208374023438, noise = 0.7599999904632568\n",
            "step = 14800: loss = 63.97802734375, noise = 0.7599999904632568\n",
            "step = 15000: loss = 88.84300231933594, noise = 0.7599999904632568\n",
            "step = 15000: Average Return = -49.584205627441406\n",
            "step = 15200: loss = 248.97645568847656, noise = 0.75\n",
            "step = 15400: loss = 372.41363525390625, noise = 0.75\n",
            "step = 15600: loss = 95.41795349121094, noise = 0.75\n",
            "step = 15800: loss = 86.10562133789062, noise = 0.75\n",
            "step = 16000: loss = 1800.663818359375, noise = 0.7400000095367432\n",
            "step = 16000: Average Return = -66.94779968261719\n",
            "step = 16200: loss = 74.77897644042969, noise = 0.7400000095367432\n",
            "step = 16400: loss = 1363.6595458984375, noise = 0.7400000095367432\n",
            "step = 16600: loss = 177.81039428710938, noise = 0.7300000190734863\n",
            "step = 16800: loss = 52.89412307739258, noise = 0.7300000190734863\n",
            "step = 17000: loss = 81.45252990722656, noise = 0.7300000190734863\n",
            "step = 17000: Average Return = -29.057723999023438\n",
            "step = 17200: loss = 436.62493896484375, noise = 0.7200000286102295\n",
            "step = 17400: loss = 1459.7069091796875, noise = 0.7200000286102295\n",
            "step = 17600: loss = 99.31272888183594, noise = 0.7200000286102295\n",
            "step = 17800: loss = 302.1432189941406, noise = 0.7099999785423279\n",
            "step = 18000: loss = 77.88040924072266, noise = 0.7099999785423279\n",
            "step = 18000: Average Return = -66.58881378173828\n",
            "step = 18200: loss = 66.59337615966797, noise = 0.7099999785423279\n",
            "step = 18400: loss = 371.0003662109375, noise = 0.699999988079071\n",
            "step = 18600: loss = 89.97935485839844, noise = 0.699999988079071\n",
            "step = 18800: loss = 67.82827758789062, noise = 0.699999988079071\n",
            "step = 19000: loss = 60.477691650390625, noise = 0.6899999976158142\n",
            "step = 19000: Average Return = -66.03479766845703\n",
            "step = 19200: loss = 90.79591369628906, noise = 0.6899999976158142\n",
            "step = 19400: loss = 62.673179626464844, noise = 0.6899999976158142\n",
            "step = 19600: loss = 127.97998809814453, noise = 0.6800000071525574\n",
            "step = 19800: loss = 72.17762756347656, noise = 0.6800000071525574\n",
            "step = 20000: loss = 601.4318237304688, noise = 0.6800000071525574\n",
            "step = 20000: Average Return = -66.77528381347656\n",
            "step = 20200: loss = 63.182647705078125, noise = 0.6700000166893005\n",
            "step = 20400: loss = 93.01912689208984, noise = 0.6700000166893005\n",
            "step = 20600: loss = 443.16046142578125, noise = 0.6700000166893005\n",
            "step = 20800: loss = 64.50687408447266, noise = 0.6600000262260437\n",
            "step = 21000: loss = 95.92215728759766, noise = 0.6600000262260437\n",
            "step = 21000: Average Return = -65.48492431640625\n",
            "step = 21200: loss = 72.05477905273438, noise = 0.6600000262260437\n",
            "step = 21400: loss = 133.59967041015625, noise = 0.6499999761581421\n",
            "step = 21600: loss = 76.54145812988281, noise = 0.6499999761581421\n",
            "step = 21800: loss = 60.05848693847656, noise = 0.6499999761581421\n",
            "step = 22000: loss = 75.07695770263672, noise = 0.6499999761581421\n",
            "step = 22000: Average Return = -49.403316497802734\n",
            "step = 22200: loss = 193.46783447265625, noise = 0.6399999856948853\n",
            "step = 22400: loss = 76.19214630126953, noise = 0.6399999856948853\n",
            "step = 22600: loss = 93.31389617919922, noise = 0.6399999856948853\n",
            "step = 22800: loss = 272.00299072265625, noise = 0.6299999952316284\n",
            "step = 23000: loss = 397.2700500488281, noise = 0.6299999952316284\n",
            "step = 23000: Average Return = -61.4605598449707\n",
            "step = 23200: loss = 68.26728057861328, noise = 0.6299999952316284\n",
            "step = 23400: loss = 165.9307403564453, noise = 0.6200000047683716\n",
            "step = 23600: loss = 49.03764343261719, noise = 0.6200000047683716\n",
            "step = 23800: loss = 80.16921997070312, noise = 0.6200000047683716\n",
            "step = 24000: loss = 63.826683044433594, noise = 0.6100000143051147\n",
            "step = 24000: Average Return = -60.05182647705078\n",
            "step = 24200: loss = 139.55224609375, noise = 0.6100000143051147\n",
            "step = 24400: loss = 754.5969848632812, noise = 0.6100000143051147\n",
            "step = 24600: loss = 46.21018981933594, noise = 0.6000000238418579\n",
            "step = 24800: loss = 99.14337921142578, noise = 0.6000000238418579\n",
            "step = 25000: loss = 78.72698974609375, noise = 0.6000000238418579\n",
            "step = 25000: Average Return = -59.070770263671875\n",
            "step = 25200: loss = 164.52816772460938, noise = 0.5899999737739563\n",
            "step = 25400: loss = 58.98695373535156, noise = 0.5899999737739563\n",
            "step = 25600: loss = 137.33523559570312, noise = 0.5899999737739563\n",
            "step = 25800: loss = 84.07747650146484, noise = 0.5799999833106995\n",
            "step = 26000: loss = 77.60930633544922, noise = 0.5799999833106995\n",
            "step = 26000: Average Return = -67.57180786132812\n",
            "step = 26200: loss = 2796.673828125, noise = 0.5799999833106995\n",
            "step = 26400: loss = 74.88310241699219, noise = 0.5699999928474426\n",
            "step = 26600: loss = 109.94025421142578, noise = 0.5699999928474426\n",
            "step = 26800: loss = 78.14915466308594, noise = 0.5699999928474426\n",
            "step = 27000: loss = 57.776634216308594, noise = 0.5600000023841858\n",
            "step = 27000: Average Return = -72.67222595214844\n",
            "step = 27200: loss = 75.45004272460938, noise = 0.5600000023841858\n",
            "step = 27400: loss = 82.29489135742188, noise = 0.5600000023841858\n",
            "step = 27600: loss = 64.74507904052734, noise = 0.550000011920929\n",
            "step = 27800: loss = 1144.4327392578125, noise = 0.550000011920929\n",
            "step = 28000: loss = 43.893863677978516, noise = 0.550000011920929\n",
            "step = 28000: Average Return = -29.3111572265625\n",
            "step = 28200: loss = 70.5864028930664, noise = 0.550000011920929\n",
            "step = 28400: loss = 1240.07763671875, noise = 0.5400000214576721\n",
            "step = 28600: loss = 70.73857879638672, noise = 0.5400000214576721\n",
            "step = 28800: loss = 56.61267852783203, noise = 0.5400000214576721\n",
            "step = 29000: loss = 42.15501403808594, noise = 0.5299999713897705\n",
            "step = 29000: Average Return = -56.484779357910156\n",
            "step = 29200: loss = 110.27759552001953, noise = 0.5299999713897705\n",
            "step = 29400: loss = 125.62462615966797, noise = 0.5299999713897705\n",
            "step = 29600: loss = 44.98106002807617, noise = 0.5199999809265137\n",
            "step = 29800: loss = 67.96809387207031, noise = 0.5199999809265137\n",
            "step = 30000: loss = 1675.815673828125, noise = 0.5199999809265137\n",
            "step = 30000: Average Return = -43.40119171142578\n"
          ],
          "name": "stdout"
        }
      ]
    },
    {
      "cell_type": "code",
      "metadata": {
        "id": "MUOCBBPkKC8V",
        "colab_type": "code",
        "colab": {
          "base_uri": "https://localhost:8080/",
          "height": 297
        },
        "outputId": "4c3fd401-5daf-4acd-8c32-7966980e6016"
      },
      "source": [
        "# Visualize the training progress of the agent\n",
        "iterations = range(0, num_iterations + 1, eval_interval)\n",
        "plt.plot(iterations, returns)\n",
        "plt.ylabel('Average Return')\n",
        "plt.xlabel('Iterations')"
      ],
      "execution_count": 134,
      "outputs": [
        {
          "output_type": "execute_result",
          "data": {
            "text/plain": [
              "Text(0.5, 0, 'Iterations')"
            ]
          },
          "metadata": {
            "tags": []
          },
          "execution_count": 134
        },
        {
          "output_type": "display_data",
          "data": {
            "image/png": "[encoded data removed]",
            "text/plain": [
              "<Figure size 432x288 with 1 Axes>"
            ]
          },
          "metadata": {
            "tags": [],
            "needs_background": "light"
          }
        }
      ]
    },
    {
      "cell_type": "code",
      "metadata": {
        "id": "m0toWihWnJke",
        "colab_type": "code",
        "colab": {
          "base_uri": "https://localhost:8080/",
          "height": 604
        },
        "outputId": "11ab07d4-044a-4bb3-b7f7-6dfa05f603f0"
      },
      "source": [
        "# Visualize the behaviour of the agent on one episode \n",
        "state_traj = np.zeros((episode_steps,\n",
        "                       train_env.time_step_spec().observation.shape[0]))\n",
        "action_signal = np.zeros(episode_steps)\n",
        "\n",
        "train_env.reset()\n",
        "for t in range(episode_steps):\n",
        "    state_traj[t,:] = train_env.current_time_step().observation\n",
        "    action_step = agent.policy.action(train_env.current_time_step())\n",
        "    action_signal[t] = action_step.action\n",
        "    train_env.step(action_step.action)\n",
        "    \n",
        "plt.figure()\n",
        "plt.plot(state_traj[:,0], state_traj[:,1], '.k')\n",
        "# Red dot shows initial state\n",
        "plt.plot(state_traj[0,0], state_traj[0,1], '.r')\n",
        "plt.title('Phase portrait of control system \\n showing single trajectory '\n",
        "          'produced by DDPG agent')\n",
        "plt.xlabel('x_1')\n",
        "plt.ylabel('x_2')\n",
        "\n",
        "plt.figure()\n",
        "plt.plot(np.linspace(0, episode_steps, episode_steps), action_signal, '.k')\n",
        "plt.title('Input to control system \\n showing signal '\n",
        "          'produced by DDPG agent')\n",
        "plt.xlabel('t')\n",
        "plt.ylabel('u')\n",
        "\n",
        "plt.show()\n",
        "\n",
        "# Note: To get the optimal action at each state, intantiate a TimeStep object at the\n",
        "# that state, then pass it to agent.policy.action(my_time_step)\n",
        "# Use tf_agents.trajectories.time_step.TimeStep(step_type, reward, discount, observation)\n",
        "# where observation contains the state.\n",
        "# Ref at https://tensorflow.google.cn/agents/api_docs/python/tf_agents/trajectories/time_step/TimeStep "
      ],
      "execution_count": 133,
      "outputs": [
        {
          "output_type": "display_data",
          "data": {
            "image/png": "[encoded data removed]",
            "text/plain": [
              "<Figure size 432x288 with 1 Axes>"
            ]
          },
          "metadata": {
            "tags": [],
            "needs_background": "light"
          }
        },
        {
          "output_type": "display_data",
          "data": {
            "image/png": "[encoded data removed]",
            "text/plain": [
              "<Figure size 432x288 with 1 Axes>"
            ]
          },
          "metadata": {
            "tags": [],
            "needs_background": "light"
          }
        }
      ]
    }
  ],
  "metadata": {
    "language_info": {
      "codemirror_mode": {
        "name": "ipython",
        "version": 3
      },
      "file_extension": ".py",
      "mimetype": "text/x-python",
      "name": "python",
      "nbconvert_exporter": "python",
      "pygments_lexer": "ipython3",
      "version": "3.6.8-final"
    },
    "orig_nbformat": 2,
    "kernelspec": {
      "name": "python36864bit0f50246b71c8417ab6f57ff5dadcb87f",
      "display_name": "Python 3.6.8 64-bit"
    },
    "colab": {
      "name": "tf-agents-ddpg-example-custom-env.ipynb",
      "provenance": [],
      "collapsed_sections": []
    },
    "accelerator": "GPU"
  },
  "nbformat": 4,
  "nbformat_minor": 0
}